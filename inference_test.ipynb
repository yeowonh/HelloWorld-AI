{
 "cells": [
  {
   "cell_type": "markdown",
   "metadata": {},
   "source": [
    "# inference test"
   ]
  },
  {
   "cell_type": "markdown",
   "metadata": {},
   "source": [
    "## chat_model"
   ]
  },
  {
   "cell_type": "code",
   "execution_count": 1,
   "metadata": {},
   "outputs": [
    {
     "name": "stdout",
     "output_type": "stream",
     "text": [
      "## config_name :  chat_config.json\n",
      "## Loading Tokenizer... ##\n"
     ]
    },
    {
     "name": "stderr",
     "output_type": "stream",
     "text": [
      "/usr/local/lib/python3.10/dist-packages/huggingface_hub/utils/_token.py:99: UserWarning: \n",
      "Error while fetching `HF_TOKEN` secret value from your vault: 'Requesting secret HF_TOKEN timed out. Secrets can only be fetched when running from the Colab UI.'.\n",
      "You are not authenticated with the Hugging Face Hub in this notebook.\n",
      "If the error persists, please let us know by opening an issue on GitHub (https://github.com/huggingface/huggingface_hub/issues/new).\n",
      "  warnings.warn(\n",
      "Special tokens have been added in the vocabulary, make sure the associated word embeddings are fine-tuned or trained.\n"
     ]
    },
    {
     "name": "stdout",
     "output_type": "stream",
     "text": [
      "## Loading Model... ##\n"
     ]
    },
    {
     "data": {
      "application/vnd.jupyter.widget-view+json": {
       "model_id": "ef9f00a48af84f28a28964de9ca1638e",
       "version_major": 2,
       "version_minor": 0
      },
      "text/plain": [
       "Loading checkpoint shards:   0%|          | 0/4 [00:00<?, ?it/s]"
      ]
     },
     "metadata": {},
     "output_type": "display_data"
    }
   ],
   "source": [
    "from model_integrated import BllossomModel\n",
    "model = BllossomModel()"
   ]
  },
  {
   "cell_type": "code",
   "execution_count": 2,
   "metadata": {},
   "outputs": [],
   "source": [
    "# [{\"sender\" : , \"content\"}]\n",
    "chat_log = []"
   ]
  },
  {
   "cell_type": "code",
   "execution_count": 3,
   "metadata": {},
   "outputs": [
    {
     "name": "stdout",
     "output_type": "stream",
     "text": [
      "## Chat mode ##\n",
      "## Loading DB... ##\n",
      "## We will retrieve top-3 relevant documents and Answer ##\n"
     ]
    },
    {
     "name": "stderr",
     "output_type": "stream",
     "text": [
      "The attention mask is not set and cannot be inferred from input because pad token is same as eos token.As a consequence, you may observe unexpected behavior. Please pass your input's `attention_mask` to obtain reliable results.\n"
     ]
    },
    {
     "name": "stdout",
     "output_type": "stream",
     "text": [
      "## 모델 응답 :  안녕하세요! 고맙습니다. 밀양 깻잎밭에서 일하시는 캄보디아 출신 여성 노동자로서 임금 계산과 근로 시간에 대한 문제가 있으신지 모르겠습니다. 상담센터에서는 임금체불, 부당해고, 근로조건 개선 등과 관련된 문제를 해결해드리고 있습니다. 구체적으로 어떤 문제가 있으신지 말씀해 주시면 도움을 드릴 수 있을 것 같습니다.\n"
     ]
    }
   ],
   "source": [
    "# 사용자 쿼리, 더미 데이터\n",
    "query = {\"text\" : \"안녕하세요. 밀양 깻잎밭에서 일하는 캄보디아 출신 여성 노동자입니다. 임금 계산과 근로 시간에 대해 문제가 있어 상담을 받고 싶습니다.\"}\n",
    "answer = model.get_answer(query[\"text\"], chat_log)\n",
    "print(\"## 모델 응답 : \", answer)\n",
    "\n",
    "chat_log.append({\"sender\" : \"user\", \"content\" : query[\"text\"]})\n",
    "chat_log.append({\"sender\" : \"bot\", \"content\" : answer})"
   ]
  },
  {
   "cell_type": "code",
   "execution_count": 4,
   "metadata": {},
   "outputs": [
    {
     "data": {
      "text/plain": [
       "[{'sender': 'user',\n",
       "  'content': '안녕하세요. 밀양 깻잎밭에서 일하는 캄보디아 출신 여성 노동자입니다. 임금 계산과 근로 시간에 대해 문제가 있어 상담을 받고 싶습니다.'},\n",
       " {'sender': 'bot',\n",
       "  'content': '안녕하세요! 고맙습니다. 밀양 깻잎밭에서 일하시는 캄보디아 출신 여성 노동자로서 임금 계산과 근로 시간에 대한 문제가 있으신지 모르겠습니다. 상담센터에서는 임금체불, 부당해고, 근로조건 개선 등과 관련된 문제를 해결해드리고 있습니다. 구체적으로 어떤 문제가 있으신지 말씀해 주시면 도움을 드릴 수 있을 것 같습니다.'}]"
      ]
     },
     "execution_count": 4,
     "metadata": {},
     "output_type": "execute_result"
    }
   ],
   "source": [
    "chat_log"
   ]
  },
  {
   "cell_type": "code",
   "execution_count": 5,
   "metadata": {},
   "outputs": [
    {
     "name": "stdout",
     "output_type": "stream",
     "text": [
      "## Chat mode ##\n",
      "## We will retrieve top-3 relevant documents and Answer ##\n",
      "## 모델 응답 :  안녕하세요! 구체적으로는 10시간 근무를 하면서도 8시간 근로로 임금이 계산되고 있는 문제가 있으신 것 같군요. 그리고 임시로 200만원을 받을 수 있는지에 대해 고려하시는 것 같아요.\n",
      "\n",
      "이 경우, 근로계약서에 근로 시간이 명시되어 있더라도 실제 근무 시간이 근로계약서에 기재된 근로 시간보다 더 많을 경우, 추가 근무에 대한 적절한 보상을 받을 권리가 있습니다. 이를 해결하기 위해서는 다음과 같은 단계를 고려해 볼 수 있습니다:\n",
      "\n",
      "1. **임금체불 조사**: 인천 노동복지센터에 방문하여 임금체불에 대해 신고할 수 있습니다. 노동복지센터는 근로감독관이 직접 현장에서 감찰하여 근로자의 권리를 보호해주고 있습니다.\n",
      "\n",
      "2. **임금수급**: 임금체불로 인해 발생한 금액에 대해 합의하기 위해 노동복지센터에 도움을 요청할 수 있습니다. 노동복지센터는 사업주와 합의를 도울 수 있는 조치도 진행할 수 있습니다.\n",
      "\n",
      "3. **근로계약서 교정**: 근로계약서에 근무 시간을 정확히 기재하여서, 앞으로의 근로에 대해 명확한 기준을 세우는 것도 한 가지 방법입니다.\n",
      "\n",
      "이 과정에서 노동복지센터의 도움을 받아 임금체불 문제를 해결하고, 정상적인 임금 수령을 보장받으실 수 있을 것입니다. 추가적인 도움이 필요하시면 언제든지 상담센터에 문의해 주세요.\n",
      "\n",
      "궁금하신 사항이 있으시면 언제든지 말씀해 주세요!\n"
     ]
    }
   ],
   "source": [
    "# 사용자 쿼리, 더미 데이터\n",
    "query = {\"text\" : \"하루에 10시간씩 일을 하는데 임금은 8시간으로 계산되었어요. 어제는 사장님이 200만원 주면 사인해주겠다고 했는데, 어떻게 해야 할지를 모르겠어요.\"}\n",
    "answer = model.get_answer(query[\"text\"], chat_log)\n",
    "print(\"## 모델 응답 : \", answer)\n",
    "\n",
    "chat_log.append({\"sender\" : \"user\", \"content\" : query[\"text\"]})\n",
    "chat_log.append({\"sender\" : \"bot\", \"content\" : answer})"
   ]
  },
  {
   "cell_type": "code",
   "execution_count": 6,
   "metadata": {},
   "outputs": [
    {
     "data": {
      "text/plain": [
       "[{'sender': 'user',\n",
       "  'content': '안녕하세요. 밀양 깻잎밭에서 일하는 캄보디아 출신 여성 노동자입니다. 임금 계산과 근로 시간에 대해 문제가 있어 상담을 받고 싶습니다.'},\n",
       " {'sender': 'bot',\n",
       "  'content': '안녕하세요! 고맙습니다. 밀양 깻잎밭에서 일하시는 캄보디아 출신 여성 노동자로서 임금 계산과 근로 시간에 대한 문제가 있으신지 모르겠습니다. 상담센터에서는 임금체불, 부당해고, 근로조건 개선 등과 관련된 문제를 해결해드리고 있습니다. 구체적으로 어떤 문제가 있으신지 말씀해 주시면 도움을 드릴 수 있을 것 같습니다.'},\n",
       " {'sender': 'user',\n",
       "  'content': '하루에 10시간씩 일을 하는데 임금은 8시간으로 계산되었어요. 어제는 사장님이 200만원 주면 사인해주겠다고 했는데, 어떻게 해야 할지를 모르겠어요.'},\n",
       " {'sender': 'bot',\n",
       "  'content': '안녕하세요! 구체적으로는 10시간 근무를 하면서도 8시간 근로로 임금이 계산되고 있는 문제가 있으신 것 같군요. 그리고 임시로 200만원을 받을 수 있는지에 대해 고려하시는 것 같아요.\\n\\n이 경우, 근로계약서에 근로 시간이 명시되어 있더라도 실제 근무 시간이 근로계약서에 기재된 근로 시간보다 더 많을 경우, 추가 근무에 대한 적절한 보상을 받을 권리가 있습니다. 이를 해결하기 위해서는 다음과 같은 단계를 고려해 볼 수 있습니다:\\n\\n1. **임금체불 조사**: 인천 노동복지센터에 방문하여 임금체불에 대해 신고할 수 있습니다. 노동복지센터는 근로감독관이 직접 현장에서 감찰하여 근로자의 권리를 보호해주고 있습니다.\\n\\n2. **임금수급**: 임금체불로 인해 발생한 금액에 대해 합의하기 위해 노동복지센터에 도움을 요청할 수 있습니다. 노동복지센터는 사업주와 합의를 도울 수 있는 조치도 진행할 수 있습니다.\\n\\n3. **근로계약서 교정**: 근로계약서에 근무 시간을 정확히 기재하여서, 앞으로의 근로에 대해 명확한 기준을 세우는 것도 한 가지 방법입니다.\\n\\n이 과정에서 노동복지센터의 도움을 받아 임금체불 문제를 해결하고, 정상적인 임금 수령을 보장받으실 수 있을 것입니다. 추가적인 도움이 필요하시면 언제든지 상담센터에 문의해 주세요.\\n\\n궁금하신 사항이 있으시면 언제든지 말씀해 주세요!'}]"
      ]
     },
     "execution_count": 6,
     "metadata": {},
     "output_type": "execute_result"
    }
   ],
   "source": [
    "chat_log"
   ]
  },
  {
   "cell_type": "code",
   "execution_count": 7,
   "metadata": {},
   "outputs": [
    {
     "name": "stdout",
     "output_type": "stream",
     "text": [
      "## Chat mode ##\n",
      "## We will retrieve top-3 relevant documents and Answer ##\n",
      "## 모델 응답 :  물론입니다! 상담센터에서 오프라인 상담사와의 연결을 도와드릴 수 있습니다. 상담센터의 경우, 밀양 지역에 도움을 줄 수 있는 상담사가 있는지 확인하고, 해당 상담사와 직접 연결해드릴 수 있습니다. 그 외에도, 밀양 노동상담소나 지역사회 노동센터와도 연결해드릴 수 있습니다. 이를 위해 원하시는 날짜와 시간을 알려주시면, 원할하게 상담을 진행해드릴 수 있을 것 같습니다. 추가로 궁금한 사항이 있으시면 언제든지 말씀해 주세요!\n"
     ]
    }
   ],
   "source": [
    "# 사용자 쿼리, 더미 데이터\n",
    "query = {\"text\" : \"오프라인 상담사와 연결이 가능할까요?\"}\n",
    "answer = model.get_answer(query[\"text\"], chat_log)\n",
    "print(\"## 모델 응답 : \", answer)\n",
    "\n",
    "chat_log.append({\"sender\" : \"user\", \"content\" : query[\"text\"]})\n",
    "chat_log.append({\"sender\" : \"bot\", \"content\" : answer})"
   ]
  },
  {
   "cell_type": "markdown",
   "metadata": {},
   "source": [
    "## summary_model"
   ]
  },
  {
   "cell_type": "code",
   "execution_count": 8,
   "metadata": {},
   "outputs": [
    {
     "name": "stdout",
     "output_type": "stream",
     "text": [
      "## We will summary dialog ##\n"
     ]
    }
   ],
   "source": [
    "summarization = model.get_summary(chat_log)"
   ]
  },
  {
   "cell_type": "code",
   "execution_count": 10,
   "metadata": {},
   "outputs": [
    {
     "data": {
      "text/plain": [
       "[{'sender': 'user',\n",
       "  'content': '안녕하세요. 밀양 깻잎밭에서 일하는 캄보디아 출신 여성 노동자입니다. 임금 계산과 근로 시간에 대해 문제가 있어 상담을 받고 싶습니다.'},\n",
       " {'sender': 'bot',\n",
       "  'content': '안녕하세요! 고맙습니다. 밀양 깻잎밭에서 일하시는 캄보디아 출신 여성 노동자로서 임금 계산과 근로 시간에 대한 문제가 있으신지 모르겠습니다. 상담센터에서는 임금체불, 부당해고, 근로조건 개선 등과 관련된 문제를 해결해드리고 있습니다. 구체적으로 어떤 문제가 있으신지 말씀해 주시면 도움을 드릴 수 있을 것 같습니다.'},\n",
       " {'sender': 'user',\n",
       "  'content': '하루에 10시간씩 일을 하는데 임금은 8시간으로 계산되었어요. 어제는 사장님이 200만원 주면 사인해주겠다고 했는데, 어떻게 해야 할지를 모르겠어요.'},\n",
       " {'sender': 'bot',\n",
       "  'content': '안녕하세요! 구체적으로는 10시간 근무를 하면서도 8시간 근로로 임금이 계산되고 있는 문제가 있으신 것 같군요. 그리고 임시로 200만원을 받을 수 있는지에 대해 고려하시는 것 같아요.\\n\\n이 경우, 근로계약서에 근로 시간이 명시되어 있더라도 실제 근무 시간이 근로계약서에 기재된 근로 시간보다 더 많을 경우, 추가 근무에 대한 적절한 보상을 받을 권리가 있습니다. 이를 해결하기 위해서는 다음과 같은 단계를 고려해 볼 수 있습니다:\\n\\n1. **임금체불 조사**: 인천 노동복지센터에 방문하여 임금체불에 대해 신고할 수 있습니다. 노동복지센터는 근로감독관이 직접 현장에서 감찰하여 근로자의 권리를 보호해주고 있습니다.\\n\\n2. **임금수급**: 임금체불로 인해 발생한 금액에 대해 합의하기 위해 노동복지센터에 도움을 요청할 수 있습니다. 노동복지센터는 사업주와 합의를 도울 수 있는 조치도 진행할 수 있습니다.\\n\\n3. **근로계약서 교정**: 근로계약서에 근무 시간을 정확히 기재하여서, 앞으로의 근로에 대해 명확한 기준을 세우는 것도 한 가지 방법입니다.\\n\\n이 과정에서 노동복지센터의 도움을 받아 임금체불 문제를 해결하고, 정상적인 임금 수령을 보장받으실 수 있을 것입니다. 추가적인 도움이 필요하시면 언제든지 상담센터에 문의해 주세요.\\n\\n궁금하신 사항이 있으시면 언제든지 말씀해 주세요!'},\n",
       " {'sender': 'user', 'content': '오프라인 상담사와 연결이 가능할까요?'},\n",
       " {'sender': 'bot',\n",
       "  'content': '물론입니다! 상담센터에서 오프라인 상담사와의 연결을 도와드릴 수 있습니다. 상담센터의 경우, 밀양 지역에 도움을 줄 수 있는 상담사가 있는지 확인하고, 해당 상담사와 직접 연결해드릴 수 있습니다. 그 외에도, 밀양 노동상담소나 지역사회 노동센터와도 연결해드릴 수 있습니다. 이를 위해 원하시는 날짜와 시간을 알려주시면, 원할하게 상담을 진행해드릴 수 있을 것 같습니다. 추가로 궁금한 사항이 있으시면 언제든지 말씀해 주세요!'}]"
      ]
     },
     "execution_count": 10,
     "metadata": {},
     "output_type": "execute_result"
    }
   ],
   "source": [
    "chat_log"
   ]
  },
  {
   "cell_type": "code",
   "execution_count": 9,
   "metadata": {},
   "outputs": [
    {
     "data": {
      "application/vnd.google.colaboratory.intrinsic+json": {
       "type": "string"
      },
      "text/plain": [
       "'밀양 깻잎밭에서 일하는 캄보디아 출신 여성 노동자에게는 하루 10시간 근무에도 불구하고 8시간 근로로 임금이 계산되고 있는 문제가 있으며, 임시로 200만원을 받을 수 있는지에 대해 고려하고 있다. 이를 해결하기 위해 인천 노동복지센터 방문 및 임금체불 신고, 노동복지센터와의 합의 절차, 근로계약서 교정 등을 통해 근로자의 권리를 보호하고 임금체불 문제를 해결하는 것이 필요하다. 추가적인 도움은 상담센터나 오프라인 상담사와의 연결을 통해 가능하다.'"
      ]
     },
     "execution_count": 9,
     "metadata": {},
     "output_type": "execute_result"
    }
   ],
   "source": [
    "summarization"
   ]
  }
 ],
 "metadata": {
  "kernelspec": {
   "display_name": "Python 3",
   "language": "python",
   "name": "python3"
  },
  "language_info": {
   "codemirror_mode": {
    "name": "ipython",
    "version": 3
   },
   "file_extension": ".py",
   "mimetype": "text/x-python",
   "name": "python",
   "nbconvert_exporter": "python",
   "pygments_lexer": "ipython3",
   "version": "3.10.12"
  }
 },
 "nbformat": 4,
 "nbformat_minor": 2
}
