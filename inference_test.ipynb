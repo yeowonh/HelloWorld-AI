{
 "cells": [
  {
   "cell_type": "markdown",
   "metadata": {},
   "source": [
    "# inference test"
   ]
  },
  {
   "cell_type": "markdown",
   "metadata": {},
   "source": [
    "## chat_model"
   ]
  },
  {
   "cell_type": "code",
   "execution_count": null,
   "metadata": {},
   "outputs": [],
   "source": [
    "from model_integrated import BllossomModel\n",
    "model = BllossomModel()"
   ]
  },
  {
   "cell_type": "code",
   "execution_count": null,
   "metadata": {},
   "outputs": [],
   "source": [
    "# [{\"sender\" : , \"content\"}]\n",
    "chat_log = []"
   ]
  },
  {
   "cell_type": "code",
   "execution_count": null,
   "metadata": {},
   "outputs": [],
   "source": [
    "# 사용자 쿼리, 더미 데이터\n",
    "query = {\"text\" : \"안녕하세요. 밀양 깻잎밭에서 일하는 캄보디아 출신 여성 노동자입니다. 임금 계산과 근로 시간에 대해 문제가 있어 상담을 받고 싶습니다.\"}\n",
    "answer = model.get_answer(query[\"text\"], chat_log)\n",
    "print(\"## 모델 응답 : \", answer)\n",
    "\n",
    "chat_log.append({\"sender\" : \"user\", \"content\" : query[\"text\"]})\n",
    "chat_log.append({\"sender\" : \"bot\", \"content\" : answer})"
   ]
  },
  {
   "cell_type": "code",
   "execution_count": null,
   "metadata": {},
   "outputs": [],
   "source": [
    "chat_log"
   ]
  },
  {
   "cell_type": "code",
   "execution_count": null,
   "metadata": {},
   "outputs": [],
   "source": [
    "# 사용자 쿼리, 더미 데이터\n",
    "query = {\"text\" : \"하루에 10시간씩 일을 하는데 임금은 8시간으로 계산되었어요. 어제는 사장님이 200만원 주면 사인해주겠다고 했는데, 어떻게 해야 할지를 모르겠어요.\"}\n",
    "answer = model.get_answer(query[\"text\"], chat_log)\n",
    "print(\"## 모델 응답 : \", answer)\n",
    "\n",
    "chat_log.append({\"sender\" : \"user\", \"content\" : query[\"text\"]})\n",
    "chat_log.append({\"sender\" : \"bot\", \"content\" : answer})"
   ]
  },
  {
   "cell_type": "code",
   "execution_count": null,
   "metadata": {},
   "outputs": [],
   "source": [
    "chat_log"
   ]
  },
  {
   "cell_type": "code",
   "execution_count": null,
   "metadata": {},
   "outputs": [],
   "source": [
    "# 사용자 쿼리, 더미 데이터\n",
    "query = {\"text\" : \"오프라인 상담사와 연결이 가능할까요?\"}\n",
    "answer = model.get_answer(query[\"text\"], chat_log)\n",
    "print(\"## 모델 응답 : \", answer)\n",
    "\n",
    "chat_log.append({\"sender\" : \"user\", \"content\" : query[\"text\"]})\n",
    "chat_log.append({\"sender\" : \"bot\", \"content\" : answer})"
   ]
  },
  {
   "cell_type": "markdown",
   "metadata": {},
   "source": [
    "## summary_model"
   ]
  },
  {
   "cell_type": "code",
   "execution_count": null,
   "metadata": {},
   "outputs": [],
   "source": [
    "summarization = model.get_summary(chat_log)"
   ]
  },
  {
   "cell_type": "code",
   "execution_count": null,
   "metadata": {},
   "outputs": [],
   "source": [
    "chat_log"
   ]
  },
  {
   "cell_type": "code",
   "execution_count": null,
   "metadata": {},
   "outputs": [],
   "source": [
    "summarization"
   ]
  },
  {
   "cell_type": "markdown",
   "metadata": {},
   "source": [
    "# Quantized model inference test"
   ]
  },
  {
   "cell_type": "markdown",
   "metadata": {},
   "source": [
    "## chat_model"
   ]
  },
  {
   "cell_type": "code",
   "execution_count": null,
   "metadata": {},
   "outputs": [],
   "source": [
    "from model_quantized import BllossomModel\n",
    "model = BllossomModel()\n",
    "\n",
    "# [{\"sender\" : , \"content\"}]\n",
    "chat_log = []"
   ]
  },
  {
   "cell_type": "code",
   "execution_count": null,
   "metadata": {},
   "outputs": [],
   "source": [
    "# 사용자 쿼리, 더미 데이터\n",
    "query = {\"text\" : \"안녕하세요. 밀양 깻잎밭에서 일하는 캄보디아 출신 여성 노동자입니다. 임금 계산과 근로 시간에 대해 문제가 있어 상담을 받고 싶습니다.\"}\n",
    "answer = model.get_answer(query[\"text\"], chat_log)\n",
    "print(\"## 모델 응답 : \", answer)\n",
    "\n",
    "chat_log.append({\"sender\" : \"user\", \"content\" : query[\"text\"]})\n",
    "chat_log.append({\"sender\" : \"bot\", \"content\" : answer})"
   ]
  },
  {
   "cell_type": "code",
   "execution_count": 3,
   "metadata": {},
   "outputs": [],
   "source": [
    "# 사용자 쿼리, 더미 데이터\n",
    "query = {\"text\" : \"하루에 10시간씩 일을 하는데 임금은 8시간으로 계산되었어요. 어제는 사장님이 200만원 주면 사인해주겠다고 했는데, 어떻게 해야 할지를 모르겠어요.\"}\n",
    "answer = model.get_answer(query[\"text\"], chat_log)\n",
    "print(\"## 모델 응답 : \", answer)\n",
    "\n",
    "chat_log.append({\"sender\" : \"user\", \"content\" : query[\"text\"]})\n",
    "chat_log.append({\"sender\" : \"bot\", \"content\" : answer})"
   ]
  },
  {
   "cell_type": "code",
   "execution_count": null,
   "metadata": {},
   "outputs": [],
   "source": [
    "# 사용자 쿼리, 더미 데이터\n",
    "query = {\"text\" : \"오프라인 상담사와 연결이 가능할까요?\"}\n",
    "answer = model.get_answer(query[\"text\"], chat_log)\n",
    "print(\"## 모델 응답 : \", answer)\n",
    "\n",
    "chat_log.append({\"sender\" : \"user\", \"content\" : query[\"text\"]})\n",
    "chat_log.append({\"sender\" : \"bot\", \"content\" : answer})"
   ]
  },
  {
   "cell_type": "code",
   "execution_count": null,
   "metadata": {},
   "outputs": [],
   "source": [
    "chat_log"
   ]
  },
  {
   "cell_type": "markdown",
   "metadata": {},
   "source": [
    "## summary_model"
   ]
  },
  {
   "cell_type": "code",
   "execution_count": null,
   "metadata": {},
   "outputs": [],
   "source": [
    "summarization = model.get_summary(chat_log)"
   ]
  },
  {
   "cell_type": "code",
   "execution_count": null,
   "metadata": {},
   "outputs": [],
   "source": [
    "chat_log"
   ]
  },
  {
   "cell_type": "code",
   "execution_count": null,
   "metadata": {},
   "outputs": [],
   "source": [
    "summarization"
   ]
  }
 ],
 "metadata": {
  "kernelspec": {
   "display_name": "Python 3",
   "language": "python",
   "name": "python3"
  },
  "language_info": {
   "codemirror_mode": {
    "name": "ipython",
    "version": 3
   },
   "file_extension": ".py",
   "mimetype": "text/x-python",
   "name": "python",
   "nbconvert_exporter": "python",
   "pygments_lexer": "ipython3",
   "version": "3.10.12"
  }
 },
 "nbformat": 4,
 "nbformat_minor": 2
}
