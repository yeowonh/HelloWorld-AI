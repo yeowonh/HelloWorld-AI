{
 "cells": [
  {
   "cell_type": "code",
   "execution_count": 1,
   "metadata": {},
   "outputs": [
    {
     "data": {
      "text/html": [
       "<div>\n",
       "<style scoped>\n",
       "    .dataframe tbody tr th:only-of-type {\n",
       "        vertical-align: middle;\n",
       "    }\n",
       "\n",
       "    .dataframe tbody tr th {\n",
       "        vertical-align: top;\n",
       "    }\n",
       "\n",
       "    .dataframe thead th {\n",
       "        text-align: right;\n",
       "    }\n",
       "</style>\n",
       "<table border=\"1\" class=\"dataframe\">\n",
       "  <thead>\n",
       "    <tr style=\"text-align: right;\">\n",
       "      <th></th>\n",
       "      <th>category</th>\n",
       "      <th>sub_category</th>\n",
       "      <th>title</th>\n",
       "      <th>contents</th>\n",
       "      <th>url</th>\n",
       "    </tr>\n",
       "  </thead>\n",
       "  <tbody>\n",
       "    <tr>\n",
       "      <th>0</th>\n",
       "      <td>Product/Service</td>\n",
       "      <td>Product Guide</td>\n",
       "      <td>Deposit Account Product Guide</td>\n",
       "      <td>HOME\\n&gt; Product/Service &gt; Deposit Account &gt; De...</td>\n",
       "      <td>javascript:pbk.web.util.goAjaxMenu('/easyone/c...</td>\n",
       "    </tr>\n",
       "    <tr>\n",
       "      <th>1</th>\n",
       "      <td>Product/Service</td>\n",
       "      <td>Product Guide</td>\n",
       "      <td>Easy-One Pack Account</td>\n",
       "      <td>HOME\\n&gt; Product/Service &gt; Deposit Account &gt; Ea...</td>\n",
       "      <td>javascript:pbk.web.util.goAjaxMenu('/easyone/c...</td>\n",
       "    </tr>\n",
       "    <tr>\n",
       "      <th>2</th>\n",
       "      <td>Product/Service</td>\n",
       "      <td>Product Guide</td>\n",
       "      <td>Easy-One Pack Savings Account</td>\n",
       "      <td>HOME\\n&gt; Product/Service &gt; Deposit Account &gt; Ea...</td>\n",
       "      <td>javascript:pbk.web.util.goAjaxMenu('/easyone/c...</td>\n",
       "    </tr>\n",
       "    <tr>\n",
       "      <th>3</th>\n",
       "      <td>Product/Service</td>\n",
       "      <td>Product Guide</td>\n",
       "      <td>Easy-One Pack Savings Account</td>\n",
       "      <td>HOME\\n&gt; Product/Service &gt; Deposit Account &gt; Ea...</td>\n",
       "      <td>javascript:pbk.web.util.goAjaxMenu('/easyone/c...</td>\n",
       "    </tr>\n",
       "    <tr>\n",
       "      <th>4</th>\n",
       "      <td>Product/Service</td>\n",
       "      <td>Product Guide</td>\n",
       "      <td>Easy-One Pack Time Deposit Account</td>\n",
       "      <td>HOME\\n&gt; Product/Service &gt; Deposit Account &gt; Ea...</td>\n",
       "      <td>javascript:pbk.web.util.goAjaxMenu('/easyone/c...</td>\n",
       "    </tr>\n",
       "  </tbody>\n",
       "</table>\n",
       "</div>"
      ],
      "text/plain": [
       "          category   sub_category                               title  \\\n",
       "0  Product/Service  Product Guide       Deposit Account Product Guide   \n",
       "1  Product/Service  Product Guide               Easy-One Pack Account   \n",
       "2  Product/Service  Product Guide       Easy-One Pack Savings Account   \n",
       "3  Product/Service  Product Guide       Easy-One Pack Savings Account   \n",
       "4  Product/Service  Product Guide  Easy-One Pack Time Deposit Account   \n",
       "\n",
       "                                            contents  \\\n",
       "0  HOME\\n> Product/Service > Deposit Account > De...   \n",
       "1  HOME\\n> Product/Service > Deposit Account > Ea...   \n",
       "2  HOME\\n> Product/Service > Deposit Account > Ea...   \n",
       "3  HOME\\n> Product/Service > Deposit Account > Ea...   \n",
       "4  HOME\\n> Product/Service > Deposit Account > Ea...   \n",
       "\n",
       "                                                 url  \n",
       "0  javascript:pbk.web.util.goAjaxMenu('/easyone/c...  \n",
       "1  javascript:pbk.web.util.goAjaxMenu('/easyone/c...  \n",
       "2  javascript:pbk.web.util.goAjaxMenu('/easyone/c...  \n",
       "3  javascript:pbk.web.util.goAjaxMenu('/easyone/c...  \n",
       "4  javascript:pbk.web.util.goAjaxMenu('/easyone/c...  "
      ]
     },
     "execution_count": 1,
     "metadata": {},
     "output_type": "execute_result"
    }
   ],
   "source": [
    "import pandas as pd\n",
    "\n",
    "data = pd.read_csv('./data/hana_members.csv')\n",
    "data.head()"
   ]
  },
  {
   "cell_type": "markdown",
   "metadata": {},
   "source": [
    "## 중복 제거"
   ]
  },
  {
   "cell_type": "code",
   "execution_count": 2,
   "metadata": {},
   "outputs": [],
   "source": [
    "data.drop_duplicates(inplace=True)\n",
    "data.to_csv('./data/hana_preprocessed.csv', index=False)"
   ]
  },
  {
   "cell_type": "markdown",
   "metadata": {},
   "source": [
    "# 데이터 검수\n",
    "\n",
    "- row 중복 확인\n",
    "    - title 중복된 경우 -> 1개 페이지에 여러 개 탭 있는 경우. row 하나로 합치기\n",
    "- 빠진 데이터 없는지 확인\n",
    "- 전처리 방안 수립\n"
   ]
  },
  {
   "cell_type": "code",
   "execution_count": 3,
   "metadata": {},
   "outputs": [
    {
     "data": {
      "text/html": [
       "<div>\n",
       "<style scoped>\n",
       "    .dataframe tbody tr th:only-of-type {\n",
       "        vertical-align: middle;\n",
       "    }\n",
       "\n",
       "    .dataframe tbody tr th {\n",
       "        vertical-align: top;\n",
       "    }\n",
       "\n",
       "    .dataframe thead th {\n",
       "        text-align: right;\n",
       "    }\n",
       "</style>\n",
       "<table border=\"1\" class=\"dataframe\">\n",
       "  <thead>\n",
       "    <tr style=\"text-align: right;\">\n",
       "      <th></th>\n",
       "      <th>category</th>\n",
       "      <th>sub_category</th>\n",
       "      <th>title</th>\n",
       "      <th>contents</th>\n",
       "      <th>url</th>\n",
       "    </tr>\n",
       "  </thead>\n",
       "  <tbody>\n",
       "    <tr>\n",
       "      <th>0</th>\n",
       "      <td>Product/Service</td>\n",
       "      <td>Product Guide</td>\n",
       "      <td>Deposit Account Product Guide</td>\n",
       "      <td>HOME\\n&gt; Product/Service &gt; Deposit Account &gt; De...</td>\n",
       "      <td>javascript:pbk.web.util.goAjaxMenu('/easyone/c...</td>\n",
       "    </tr>\n",
       "    <tr>\n",
       "      <th>1</th>\n",
       "      <td>Product/Service</td>\n",
       "      <td>Product Guide</td>\n",
       "      <td>Easy-One Pack Account</td>\n",
       "      <td>HOME\\n&gt; Product/Service &gt; Deposit Account &gt; Ea...</td>\n",
       "      <td>javascript:pbk.web.util.goAjaxMenu('/easyone/c...</td>\n",
       "    </tr>\n",
       "    <tr>\n",
       "      <th>2</th>\n",
       "      <td>Product/Service</td>\n",
       "      <td>Product Guide</td>\n",
       "      <td>Easy-One Pack Savings Account</td>\n",
       "      <td>HOME\\n&gt; Product/Service &gt; Deposit Account &gt; Ea...</td>\n",
       "      <td>javascript:pbk.web.util.goAjaxMenu('/easyone/c...</td>\n",
       "    </tr>\n",
       "    <tr>\n",
       "      <th>3</th>\n",
       "      <td>Product/Service</td>\n",
       "      <td>Product Guide</td>\n",
       "      <td>Easy-One Pack Time Deposit Account</td>\n",
       "      <td>HOME\\n&gt; Product/Service &gt; Deposit Account &gt; Ea...</td>\n",
       "      <td>javascript:pbk.web.util.goAjaxMenu('/easyone/c...</td>\n",
       "    </tr>\n",
       "    <tr>\n",
       "      <th>4</th>\n",
       "      <td>Product/Service</td>\n",
       "      <td>Product Guide</td>\n",
       "      <td>N°N (Number N) Account</td>\n",
       "      <td>HOME\\n&gt; Product/Service &gt; Deposit Account &gt; N°...</td>\n",
       "      <td>javascript:pbk.web.util.goAjaxMenu('/easyone/c...</td>\n",
       "    </tr>\n",
       "  </tbody>\n",
       "</table>\n",
       "</div>"
      ],
      "text/plain": [
       "          category   sub_category                               title  \\\n",
       "0  Product/Service  Product Guide       Deposit Account Product Guide   \n",
       "1  Product/Service  Product Guide               Easy-One Pack Account   \n",
       "2  Product/Service  Product Guide       Easy-One Pack Savings Account   \n",
       "3  Product/Service  Product Guide  Easy-One Pack Time Deposit Account   \n",
       "4  Product/Service  Product Guide              N°N (Number N) Account   \n",
       "\n",
       "                                            contents  \\\n",
       "0  HOME\\n> Product/Service > Deposit Account > De...   \n",
       "1  HOME\\n> Product/Service > Deposit Account > Ea...   \n",
       "2  HOME\\n> Product/Service > Deposit Account > Ea...   \n",
       "3  HOME\\n> Product/Service > Deposit Account > Ea...   \n",
       "4  HOME\\n> Product/Service > Deposit Account > N°...   \n",
       "\n",
       "                                                 url  \n",
       "0  javascript:pbk.web.util.goAjaxMenu('/easyone/c...  \n",
       "1  javascript:pbk.web.util.goAjaxMenu('/easyone/c...  \n",
       "2  javascript:pbk.web.util.goAjaxMenu('/easyone/c...  \n",
       "3  javascript:pbk.web.util.goAjaxMenu('/easyone/c...  \n",
       "4  javascript:pbk.web.util.goAjaxMenu('/easyone/c...  "
      ]
     },
     "execution_count": 3,
     "metadata": {},
     "output_type": "execute_result"
    }
   ],
   "source": [
    "import pandas as pd\n",
    "\n",
    "data = pd.read_csv('./data/hana_preprocessed.csv')\n",
    "data.head()"
   ]
  },
  {
   "cell_type": "code",
   "execution_count": 4,
   "metadata": {},
   "outputs": [
    {
     "data": {
      "text/plain": [
       "array(['Deposit Account Product Guide', 'Easy-One Pack Account',\n",
       "       'Easy-One Pack Savings Account',\n",
       "       'Easy-One Pack Time Deposit Account', 'N°N (Number N) Account',\n",
       "       'YES Keungippeum Deposit Account',\n",
       "       'Foreign Currency Deposit Account',\n",
       "       'Foreign Currency Time Deposit Account',\n",
       "       'The Wide Foreign Currency Savings Account',\n",
       "       'easy-one Foreign Currency Remittance Service',\n",
       "       'easy-one Foreign Currency Remittance Service',\n",
       "       'Easy-One Plus Service', 'Easy-One Remittance Card',\n",
       "       'Global Local Currency Remittance Service',\n",
       "       'Asia Preferential Remittance Service', 'Information for Workers',\n",
       "       'Information for Workers',\n",
       "       'List of Foreigner Support Organizations', 'Easy-One Pack',\n",
       "       'Easy-One Pack', 'Easy-One Pack', 'KEB for Expats', 'Newsletter',\n",
       "       'ISIC Check Card',\n",
       "       'Preferential Services for Chinese International Students',\n",
       "       'Happy Email Service', 'About Korea', 'Internet Banking',\n",
       "       'Easy-One Package', 'Smart Bank', 'Foreign Exchange Regulations',\n",
       "       'Relocation Service', 'Leisure and Culture',\n",
       "       'Easy-One Foreigner Service', 'Easy-One Foreigner Service',\n",
       "       'Guide to Use Procedures',\n",
       "       'Guide to the issuance of digital certificate',\n",
       "       'Smart Banking Certificate Issuance Guide',\n",
       "       'Smart Banking Certificate Issuance Guide',\n",
       "       'Easy-One Foreigner Service', 'Easy-One Foreigner Service',\n",
       "       'Guide to Use Procedures',\n",
       "       'Guide to the issuance of digital certificate',\n",
       "       'Smart Banking Certificate Issuance Guide',\n",
       "       'Smart Banking Certificate Issuance Guide',\n",
       "       'Information for Workers', 'Information for Workers',\n",
       "       'List of Foreigner Support Organizations', 'Easy-One Pack',\n",
       "       'Easy-One Pack', 'Easy-One Pack', 'KEB for Expats', 'Newsletter',\n",
       "       'ISIC Check Card',\n",
       "       'Preferential Services for Chinese International Students',\n",
       "       'Happy Email Service', 'About Korea', 'Internet Banking',\n",
       "       'Easy-One Package', 'Smart Bank', 'Foreign Exchange Regulations',\n",
       "       'Relocation Service', 'Leisure and Culture',\n",
       "       'Information for Workers', 'Information for Workers',\n",
       "       'List of Foreigner Support Organizations', 'Easy-One Pack',\n",
       "       'Easy-One Pack', 'Easy-One Pack', 'KEB for Expats', 'Newsletter',\n",
       "       'ISIC Check Card',\n",
       "       'Preferential Services for Chinese International Students',\n",
       "       'Happy Email Service', 'About Korea', 'Internet Banking',\n",
       "       'Easy-One Package', 'Smart Bank', 'Foreign Exchange Regulations',\n",
       "       'Relocation Service', 'Leisure and Culture',\n",
       "       'Information for Workers', 'Information for Workers',\n",
       "       'List of Foreigner Support Organizations', 'Easy-One Pack',\n",
       "       'Easy-One Pack', 'Easy-One Pack', 'KEB for Expats', 'Newsletter',\n",
       "       'ISIC Check Card',\n",
       "       'Preferential Services for Chinese International Students',\n",
       "       'Happy Email Service', 'About Korea', 'Internet Banking',\n",
       "       'Easy-One Package', 'Smart Bank', 'Foreign Exchange Regulations',\n",
       "       'Relocation Service', 'Leisure and Culture',\n",
       "       'Deposit Account Product Guide', 'Easy-One Pack Account',\n",
       "       'Easy-One Pack Savings Account',\n",
       "       'Easy-One Pack Time Deposit Account', 'N°N (Number N) Account',\n",
       "       'YES Keungippeum Deposit Account',\n",
       "       'Foreign Currency Deposit Account',\n",
       "       'Foreign Currency Time Deposit Account',\n",
       "       'The Wide Foreign Currency Savings Account',\n",
       "       'easy-one Foreign Currency Remittance Service',\n",
       "       'easy-one Foreign Currency Remittance Service',\n",
       "       'Easy-One Plus Service', 'Easy-One Remittance Card',\n",
       "       'Global Local Currency Remittance Service',\n",
       "       'Asia Preferential Remittance Service', 'Guide to Use Procedures',\n",
       "       'Easy-One Foreigner Service', 'Guide to Use Procedures',\n",
       "       'Guide to the issuance of digital certificate',\n",
       "       'Smart Banking Certificate Issuance Guide',\n",
       "       'Smart Banking Certificate Issuance Guide',\n",
       "       'Guide to Service Hours', 'Easy-One Foreigner Service',\n",
       "       'Guide to Use Procedures',\n",
       "       'Guide to the issuance of digital certificate',\n",
       "       'Smart Banking Certificate Issuance Guide',\n",
       "       'Smart Banking Certificate Issuance Guide'], dtype=object)"
      ]
     },
     "execution_count": 4,
     "metadata": {},
     "output_type": "execute_result"
    }
   ],
   "source": [
    "data['title'].values"
   ]
  },
  {
   "cell_type": "markdown",
   "metadata": {},
   "source": [
    "> 전처리 이후 title 같은 것끼리 content concat"
   ]
  },
  {
   "cell_type": "markdown",
   "metadata": {},
   "source": [
    "## 전처리 코드\n",
    "\n",
    "- 위에 두 줄씩 자르기\n",
    "- ' '로 join\n",
    "\n",
    "-> apply axis=1\n",
    "- title 기준 병합"
   ]
  },
  {
   "cell_type": "code",
   "execution_count": 5,
   "metadata": {},
   "outputs": [],
   "source": [
    "def preprocessing(row):\n",
    "    contents = row.split('\\n')\n",
    "    contents = contents[2:]\n",
    "\n",
    "    contents = ' '.join(contents)\n",
    "\n",
    "    return contents"
   ]
  },
  {
   "cell_type": "code",
   "execution_count": 6,
   "metadata": {},
   "outputs": [],
   "source": [
    "import copy\n",
    "\n",
    "data_preprocessed = copy.deepcopy(data)\n",
    "data_preprocessed['contents'] = data_preprocessed.apply(lambda x: preprocessing(x['contents']), axis=1)"
   ]
  },
  {
   "cell_type": "code",
   "execution_count": 7,
   "metadata": {},
   "outputs": [
    {
     "data": {
      "text/plain": [
       "'HOME\\n> Product/Service > Deposit Account > Deposit Account Product Guide\\nDeposit Account Product Guide\\nTake a glance at the variety of deposit/savings accounts offered by KEB Hana Bank.\\nProduct Product Features Details/Sign-up\\nEasy-One Pack Account\\nMoney market deposit account (MMDA) for foreign customers\\nElectronic banking and ATM fees are waived for customers\\nwho use a check card or salary transfers.\\nView Details\\nEasy-One Pack Savings Account\\nInstallment product specially for foreign customers\\nPreferential interest rates offered based on transaction history\\nAll foreign currency remittance fees are waived when funds are remitted overseas after closing the account.\\nView Details\\nEasy-One Pack Time Deposit Account\\nTime Deposit product especially for foreign customers. The customer can select the product name.\\nForeign currency remittance fees are waived when funds are remitted overseas after closing the account.\\nView Details\\nN°N (Number N) Account\\nMoney market deposit account (MMDA) offering preferential services to customers\\nwhose salary is deposited in this account or the account is used as the payment account for a N°N Card or 2X Card.\\nView Details\\nYES Keungippeum Deposit Account\\nTime deposit account offering higher fixed interest rates, reflecting the market interest rate.\\nView Details\\nForeign Currency Deposit Account\\nForeign currency deposit account that offers unrestricted\\ndeposits and withdrawals with no maturity date.\\nView Details\\nForeign Currency Time Deposit Account\\nForeign currency time deposit account that offers high-interest-rate deposits in foreign currency that is held, received through remittance, or bought in exchange for KRW.\\nView Details\\nThe Wide Foreign Currency Savings Account\\nFree-installment foreign currency deposit account\\nthat offers unrestricted deposits and partial withdrawals as well as various preferential benefits in interest rates, currency exchange rates, and foreign exchange fees.\\nView Details'"
      ]
     },
     "execution_count": 7,
     "metadata": {},
     "output_type": "execute_result"
    }
   ],
   "source": [
    "data.loc[0, 'contents']"
   ]
  },
  {
   "cell_type": "code",
   "execution_count": 8,
   "metadata": {},
   "outputs": [
    {
     "data": {
      "text/plain": [
       "'Deposit Account Product Guide Take a glance at the variety of deposit/savings accounts offered by KEB Hana Bank. Product Product Features Details/Sign-up Easy-One Pack Account Money market deposit account (MMDA) for foreign customers Electronic banking and ATM fees are waived for customers who use a check card or salary transfers. View Details Easy-One Pack Savings Account Installment product specially for foreign customers Preferential interest rates offered based on transaction history All foreign currency remittance fees are waived when funds are remitted overseas after closing the account. View Details Easy-One Pack Time Deposit Account Time Deposit product especially for foreign customers. The customer can select the product name. Foreign currency remittance fees are waived when funds are remitted overseas after closing the account. View Details N°N (Number N) Account Money market deposit account (MMDA) offering preferential services to customers whose salary is deposited in this account or the account is used as the payment account for a N°N Card or 2X Card. View Details YES Keungippeum Deposit Account Time deposit account offering higher fixed interest rates, reflecting the market interest rate. View Details Foreign Currency Deposit Account Foreign currency deposit account that offers unrestricted deposits and withdrawals with no maturity date. View Details Foreign Currency Time Deposit Account Foreign currency time deposit account that offers high-interest-rate deposits in foreign currency that is held, received through remittance, or bought in exchange for KRW. View Details The Wide Foreign Currency Savings Account Free-installment foreign currency deposit account that offers unrestricted deposits and partial withdrawals as well as various preferential benefits in interest rates, currency exchange rates, and foreign exchange fees. View Details'"
      ]
     },
     "execution_count": 8,
     "metadata": {},
     "output_type": "execute_result"
    }
   ],
   "source": [
    "data_preprocessed.loc[0, 'contents']"
   ]
  },
  {
   "cell_type": "code",
   "execution_count": 9,
   "metadata": {},
   "outputs": [],
   "source": [
    "data_preprocessed = data_preprocessed.groupby('title', as_index=False).agg({'category' : 'first', 'sub_category' : 'first', 'title' : 'first', 'contents' : ' '.join, 'url' : 'first'})"
   ]
  },
  {
   "cell_type": "code",
   "execution_count": 10,
   "metadata": {},
   "outputs": [
    {
     "data": {
      "text/plain": [
       "array([\"javascript:pbk.web.util.goAjaxMenu('/easyone/contents/info/students/wpinf303.do',null,null,null,'wpinf303','61340','61300');\",\n",
       "       \"javascript:pbk.web.util.goAjaxMenu('/easyone/contents/products/foreign/wppdt204.do',null,null,null,'wppdt204','62469','59200');\",\n",
       "       \"javascript:pbk.web.util.goAjaxMenu('/easyone/contents/products/deposit/wppdt100.do',null,null,null,'wppdt100','59110','59100');\",\n",
       "       \"javascript:pbk.web.util.goAjaxMenu('/easyone/contents/useguide/service/wpuge100.do',null,null,null,'wpuge100','62100','62000');\",\n",
       "       \"javascript:pbk.web.util.goAjaxMenu('/easyone/contents/info/expats/wpinf200.do',null,null,null,'wpinf200','61210','61200');\",\n",
       "       \"javascript:pbk.web.util.goAjaxMenu('/easyone/contents/products/deposit/wppdt101.do',null,null,null,'wppdt101','59120','59100');\",\n",
       "       \"javascript:pbk.web.util.goAjaxMenu('/easyone/contents/products/deposit/wppdt102.do',null,null,null,'wppdt102','59130','59100');\",\n",
       "       \"javascript:pbk.web.util.goAjaxMenu('/easyone/contents/products/deposit/wppdt103.do',null,null,null,'wppdt103','59140','59100');\",\n",
       "       \"javascript:pbk.web.util.goAjaxMenu('/easyone/contents/info/guide/wpinf401.do',null,null,null,'wpinf401','61420','61400');\",\n",
       "       \"javascript:pbk.web.util.goAjaxMenu('/easyone/contents/products/foreign/wppdt201.do',null,null,null,'wppdt201','59220','59200');\",\n",
       "       \"javascript:pbk.web.util.goAjaxMenu('/easyone/contents/products/foreign/wppdt202.do',null,null,null,'wppdt202','59230','59200');\",\n",
       "       \"javascript:pbk.web.util.goAjaxMenu('/easyone/contents/products/deposit/wppdt106.do',null,null,null,'wppdt106','59170','59100');\",\n",
       "       \"javascript:pbk.web.util.goAjaxMenu('/easyone/contents/products/deposit/wppdt107.do',null,null,null,'wppdt107','59180','59100');\",\n",
       "       \"javascript:pbk.web.util.goAjaxMenu('/easyone/contents/info/guide/wpinf404.do',null,null,null,'wpinf404','61450','61400');\",\n",
       "       \"javascript:pbk.web.util.goAjaxMenu('/easyone/contents/products/foreign/wppdt203.do',null,null,null,'wppdt203','59240','59200');\",\n",
       "       \"javascript:pbk.web.util.goAjaxMenu('/easyone/contents/useguide/servicehour/wpuge300.do',null,null,null,'wpuge300','62300','62000');\",\n",
       "       \"javascript:pbk.web.util.goAjaxMenu('/easyone/contents/useguide/certify/wpuge500.do',null,null,null,'wpuge500','62612','62611');\",\n",
       "       \"javascript:pbk.web.util.goAjaxMenu('/easyone/contents/info/students/wpinf302.do',null,null,null,'wpinf302','61330','61300');\",\n",
       "       \"javascript:pbk.web.util.goAjaxMenu('/easyone/contents/info/students/wpinf300.do',null,null,null,'wpinf300','61310','61300');\",\n",
       "       \"javascript:pbk.web.util.goAjaxMenu('/easyone/contents/info/worker/wpinf100.do',null,null,null,'wpinf100','61110','61100');\",\n",
       "       \"javascript:pbk.web.util.goAjaxMenu('/easyone/contents/info/guide/wpinf400.do',null,null,null,'wpinf400','61410','61400');\",\n",
       "       \"javascript:pbk.web.util.goAjaxMenu('/easyone/contents/info/expats/wpinf201.do',null,null,null,'','62493','61200');\",\n",
       "       \"javascript:pbk.web.util.goAjaxMenu('/easyone/contents/info/guide/wpinf601.do',null,null,null,'wpinf601','62480','61500');\",\n",
       "       \"javascript:pbk.web.util.goAjaxMenu('/easyone/contents/info/worker/wpinf101.do',null,null,null,'wpinf101','61120','61100');\",\n",
       "       \"javascript:pbk.web.util.goAjaxMenu('/easyone/contents/info/expats/wpinf202.do',null,null,null,'','62492','61200');\",\n",
       "       \"javascript:pbk.web.util.goAjaxMenu('/easyone/contents/products/deposit/wppdt104.do',null,null,null,'wppdt104','59150','59100');\",\n",
       "       \"javascript:pbk.web.util.goAjaxMenu('/easyone/contents/info/students/wpinf301.do',null,null,null,'wpinf301','61320','61300');\",\n",
       "       \"javascript:pbk.web.util.goAjaxMenu('/easyone/contents/info/guide/wpinf600.do',null,null,null,'wpinf600','61510','61500');\",\n",
       "       \"javascript:pbk.web.util.goAjaxMenu('/easyone/contents/info/guide/wpinf402.do',null,null,null,'wpinf402','61430','61400');\",\n",
       "       \"javascript:pbk.web.util.goAjaxMenu('/easyone/contents/useguide/certify/wpuge501.do',null,null,null,'wpuge501','62613','62611');\",\n",
       "       \"javascript:pbk.web.util.goAjaxMenu('/easyone/contents/products/deposit/wppdt108.do',null,null,null,'wppdt108','59190','59100');\",\n",
       "       \"javascript:pbk.web.util.goAjaxMenu('/easyone/contents/products/deposit/wppdt105.do',null,null,null,'wppdt105','59160','59100');\",\n",
       "       \"javascript:pbk.web.util.goAjaxMenu('/easyone/contents/products/foreign/wppdt200.do',null,null,null,'wppdt200','59210','59200');\"],\n",
       "      dtype=object)"
      ]
     },
     "execution_count": 10,
     "metadata": {},
     "output_type": "execute_result"
    }
   ],
   "source": [
    "data_preprocessed['url'].unique()"
   ]
  },
  {
   "cell_type": "code",
   "execution_count": 11,
   "metadata": {},
   "outputs": [
    {
     "data": {
      "text/html": [
       "<div>\n",
       "<style scoped>\n",
       "    .dataframe tbody tr th:only-of-type {\n",
       "        vertical-align: middle;\n",
       "    }\n",
       "\n",
       "    .dataframe tbody tr th {\n",
       "        vertical-align: top;\n",
       "    }\n",
       "\n",
       "    .dataframe thead th {\n",
       "        text-align: right;\n",
       "    }\n",
       "</style>\n",
       "<table border=\"1\" class=\"dataframe\">\n",
       "  <thead>\n",
       "    <tr style=\"text-align: right;\">\n",
       "      <th></th>\n",
       "      <th>category</th>\n",
       "      <th>sub_category</th>\n",
       "      <th>title</th>\n",
       "      <th>contents</th>\n",
       "      <th>url</th>\n",
       "    </tr>\n",
       "  </thead>\n",
       "  <tbody>\n",
       "    <tr>\n",
       "      <th>0</th>\n",
       "      <td>Product/Service</td>\n",
       "      <td>Non-Banking Service</td>\n",
       "      <td>About Korea</td>\n",
       "      <td>About Korea Links to the National Institute fo...</td>\n",
       "      <td>javascript:pbk.web.util.goAjaxMenu('/easyone/c...</td>\n",
       "    </tr>\n",
       "    <tr>\n",
       "      <th>1</th>\n",
       "      <td>Product/Service</td>\n",
       "      <td>Product Guide</td>\n",
       "      <td>Asia Preferential Remittance Service</td>\n",
       "      <td>Asia Preferential Remittance Service Remittanc...</td>\n",
       "      <td>javascript:pbk.web.util.goAjaxMenu('/easyone/c...</td>\n",
       "    </tr>\n",
       "    <tr>\n",
       "      <th>2</th>\n",
       "      <td>Product/Service</td>\n",
       "      <td>Product Guide</td>\n",
       "      <td>Deposit Account Product Guide</td>\n",
       "      <td>Deposit Account Product Guide Take a glance at...</td>\n",
       "      <td>javascript:pbk.web.util.goAjaxMenu('/easyone/c...</td>\n",
       "    </tr>\n",
       "    <tr>\n",
       "      <th>3</th>\n",
       "      <td>Useful Information</td>\n",
       "      <td>What is EasyOne Service for Foreigners?</td>\n",
       "      <td>Easy-One Foreigner Service</td>\n",
       "      <td>Easy-One Foreigner Service KEB Hana Bank's spe...</td>\n",
       "      <td>javascript:pbk.web.util.goAjaxMenu('/easyone/c...</td>\n",
       "    </tr>\n",
       "    <tr>\n",
       "      <th>4</th>\n",
       "      <td>Product/Service</td>\n",
       "      <td>Non-Banking Service</td>\n",
       "      <td>Easy-One Pack</td>\n",
       "      <td>Easy-One Pack What is the Easy-One Pack servic...</td>\n",
       "      <td>javascript:pbk.web.util.goAjaxMenu('/easyone/c...</td>\n",
       "    </tr>\n",
       "  </tbody>\n",
       "</table>\n",
       "</div>"
      ],
      "text/plain": [
       "             category                             sub_category  \\\n",
       "0     Product/Service                      Non-Banking Service   \n",
       "1     Product/Service                            Product Guide   \n",
       "2     Product/Service                            Product Guide   \n",
       "3  Useful Information  What is EasyOne Service for Foreigners?   \n",
       "4     Product/Service                      Non-Banking Service   \n",
       "\n",
       "                                  title  \\\n",
       "0                           About Korea   \n",
       "1  Asia Preferential Remittance Service   \n",
       "2         Deposit Account Product Guide   \n",
       "3            Easy-One Foreigner Service   \n",
       "4                         Easy-One Pack   \n",
       "\n",
       "                                            contents  \\\n",
       "0  About Korea Links to the National Institute fo...   \n",
       "1  Asia Preferential Remittance Service Remittanc...   \n",
       "2  Deposit Account Product Guide Take a glance at...   \n",
       "3  Easy-One Foreigner Service KEB Hana Bank's spe...   \n",
       "4  Easy-One Pack What is the Easy-One Pack servic...   \n",
       "\n",
       "                                                 url  \n",
       "0  javascript:pbk.web.util.goAjaxMenu('/easyone/c...  \n",
       "1  javascript:pbk.web.util.goAjaxMenu('/easyone/c...  \n",
       "2  javascript:pbk.web.util.goAjaxMenu('/easyone/c...  \n",
       "3  javascript:pbk.web.util.goAjaxMenu('/easyone/c...  \n",
       "4  javascript:pbk.web.util.goAjaxMenu('/easyone/c...  "
      ]
     },
     "execution_count": 11,
     "metadata": {},
     "output_type": "execute_result"
    }
   ],
   "source": [
    "data_preprocessed.head()"
   ]
  },
  {
   "cell_type": "code",
   "execution_count": 12,
   "metadata": {},
   "outputs": [],
   "source": [
    "data_preprocessed.to_csv('./data/hana_preprocessed.csv', index=False)"
   ]
  },
  {
   "cell_type": "markdown",
   "metadata": {},
   "source": [
    "## document 길이 분포 시각화"
   ]
  },
  {
   "cell_type": "code",
   "execution_count": 13,
   "metadata": {},
   "outputs": [
    {
     "data": {
      "text/html": [
       "<div>\n",
       "<style scoped>\n",
       "    .dataframe tbody tr th:only-of-type {\n",
       "        vertical-align: middle;\n",
       "    }\n",
       "\n",
       "    .dataframe tbody tr th {\n",
       "        vertical-align: top;\n",
       "    }\n",
       "\n",
       "    .dataframe thead th {\n",
       "        text-align: right;\n",
       "    }\n",
       "</style>\n",
       "<table border=\"1\" class=\"dataframe\">\n",
       "  <thead>\n",
       "    <tr style=\"text-align: right;\">\n",
       "      <th></th>\n",
       "      <th>category</th>\n",
       "      <th>sub_category</th>\n",
       "      <th>title</th>\n",
       "      <th>contents</th>\n",
       "      <th>url</th>\n",
       "    </tr>\n",
       "  </thead>\n",
       "  <tbody>\n",
       "    <tr>\n",
       "      <th>0</th>\n",
       "      <td>Product/Service</td>\n",
       "      <td>Non-Banking Service</td>\n",
       "      <td>About Korea</td>\n",
       "      <td>About Korea Links to the National Institute fo...</td>\n",
       "      <td>javascript:pbk.web.util.goAjaxMenu('/easyone/c...</td>\n",
       "    </tr>\n",
       "    <tr>\n",
       "      <th>1</th>\n",
       "      <td>Product/Service</td>\n",
       "      <td>Product Guide</td>\n",
       "      <td>Asia Preferential Remittance Service</td>\n",
       "      <td>Asia Preferential Remittance Service Remittanc...</td>\n",
       "      <td>javascript:pbk.web.util.goAjaxMenu('/easyone/c...</td>\n",
       "    </tr>\n",
       "    <tr>\n",
       "      <th>2</th>\n",
       "      <td>Product/Service</td>\n",
       "      <td>Product Guide</td>\n",
       "      <td>Deposit Account Product Guide</td>\n",
       "      <td>Deposit Account Product Guide Take a glance at...</td>\n",
       "      <td>javascript:pbk.web.util.goAjaxMenu('/easyone/c...</td>\n",
       "    </tr>\n",
       "    <tr>\n",
       "      <th>3</th>\n",
       "      <td>Useful Information</td>\n",
       "      <td>What is EasyOne Service for Foreigners?</td>\n",
       "      <td>Easy-One Foreigner Service</td>\n",
       "      <td>Easy-One Foreigner Service KEB Hana Bank's spe...</td>\n",
       "      <td>javascript:pbk.web.util.goAjaxMenu('/easyone/c...</td>\n",
       "    </tr>\n",
       "    <tr>\n",
       "      <th>4</th>\n",
       "      <td>Product/Service</td>\n",
       "      <td>Non-Banking Service</td>\n",
       "      <td>Easy-One Pack</td>\n",
       "      <td>Easy-One Pack What is the Easy-One Pack servic...</td>\n",
       "      <td>javascript:pbk.web.util.goAjaxMenu('/easyone/c...</td>\n",
       "    </tr>\n",
       "  </tbody>\n",
       "</table>\n",
       "</div>"
      ],
      "text/plain": [
       "             category                             sub_category  \\\n",
       "0     Product/Service                      Non-Banking Service   \n",
       "1     Product/Service                            Product Guide   \n",
       "2     Product/Service                            Product Guide   \n",
       "3  Useful Information  What is EasyOne Service for Foreigners?   \n",
       "4     Product/Service                      Non-Banking Service   \n",
       "\n",
       "                                  title  \\\n",
       "0                           About Korea   \n",
       "1  Asia Preferential Remittance Service   \n",
       "2         Deposit Account Product Guide   \n",
       "3            Easy-One Foreigner Service   \n",
       "4                         Easy-One Pack   \n",
       "\n",
       "                                            contents  \\\n",
       "0  About Korea Links to the National Institute fo...   \n",
       "1  Asia Preferential Remittance Service Remittanc...   \n",
       "2  Deposit Account Product Guide Take a glance at...   \n",
       "3  Easy-One Foreigner Service KEB Hana Bank's spe...   \n",
       "4  Easy-One Pack What is the Easy-One Pack servic...   \n",
       "\n",
       "                                                 url  \n",
       "0  javascript:pbk.web.util.goAjaxMenu('/easyone/c...  \n",
       "1  javascript:pbk.web.util.goAjaxMenu('/easyone/c...  \n",
       "2  javascript:pbk.web.util.goAjaxMenu('/easyone/c...  \n",
       "3  javascript:pbk.web.util.goAjaxMenu('/easyone/c...  \n",
       "4  javascript:pbk.web.util.goAjaxMenu('/easyone/c...  "
      ]
     },
     "execution_count": 13,
     "metadata": {},
     "output_type": "execute_result"
    }
   ],
   "source": [
    "import pandas as pd\n",
    "import matplotlib.pyplot as plt\n",
    "\n",
    "data = pd.read_csv('./data/hana_preprocessed.csv')\n",
    "data.head()"
   ]
  },
  {
   "cell_type": "code",
   "execution_count": 14,
   "metadata": {},
   "outputs": [
    {
     "data": {
      "text/plain": [
       "(34, 5)"
      ]
     },
     "execution_count": 14,
     "metadata": {},
     "output_type": "execute_result"
    }
   ],
   "source": [
    "data.shape"
   ]
  },
  {
   "cell_type": "code",
   "execution_count": 15,
   "metadata": {},
   "outputs": [],
   "source": [
    "def word_length_check(text):\n",
    "    text_list = text.split(' ')\n",
    "    return len(text_list)"
   ]
  },
  {
   "cell_type": "code",
   "execution_count": 16,
   "metadata": {},
   "outputs": [
    {
     "data": {
      "text/plain": [
       "0     156\n",
       "1     490\n",
       "2     538\n",
       "3    1722\n",
       "4    2556\n",
       "Name: contents, dtype: int64"
      ]
     },
     "execution_count": 16,
     "metadata": {},
     "output_type": "execute_result"
    }
   ],
   "source": [
    "length = data['contents'].apply(word_length_check)\n",
    "length.head()"
   ]
  },
  {
   "cell_type": "code",
   "execution_count": 17,
   "metadata": {},
   "outputs": [
    {
     "data": {
      "image/png": "[encoded data removed]",
      "text/plain": [
       "<Figure size 1000x600 with 1 Axes>"
      ]
     },
     "metadata": {},
     "output_type": "display_data"
    }
   ],
   "source": [
    "# 히스토그램 시각화\n",
    "plt.figure(figsize=(10, 6))\n",
    "plt.hist(length, bins=10, edgecolor='black')\n",
    "plt.title('Histogram of Word Lengths')\n",
    "plt.xlabel('word count')\n",
    "plt.ylabel('Frequency')\n",
    "plt.show()"
   ]
  },
  {
   "cell_type": "code",
   "execution_count": null,
   "metadata": {},
   "outputs": [],
   "source": []
  }
 ],
 "metadata": {
  "kernelspec": {
   "display_name": "hana",
   "language": "python",
   "name": "python3"
  },
  "language_info": {
   "codemirror_mode": {
    "name": "ipython",
    "version": 3
   },
   "file_extension": ".py",
   "mimetype": "text/x-python",
   "name": "python",
   "nbconvert_exporter": "python",
   "pygments_lexer": "ipython3",
   "version": "3.10.14"
  }
 },
 "nbformat": 4,
 "nbformat_minor": 2
}
